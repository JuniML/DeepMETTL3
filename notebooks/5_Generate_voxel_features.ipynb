{
 "cells": [
  {
   "cell_type": "markdown",
   "id": "d5dc75af-e33b-4f84-a102-e80b67ddf545",
   "metadata": {},
   "source": [
    "# **Load Libraries**"
   ]
  },
  {
   "cell_type": "code",
   "execution_count": null,
   "id": "358a4cb3-3b8e-41e6-b01e-8e21696631db",
   "metadata": {},
   "outputs": [],
   "source": [
    "import pandas as pd\n",
    "import numpy as np\n",
    "from oddt.fingerprints import PLEC\n",
    "import oddt\n",
    "from joblib import Parallel, delayed\n",
    "from tqdm import tqdm\n",
    "import glob\n",
    "import os\n",
    "import tempfile\n",
    "from openbabel import openbabel\n",
    "from rdkit import Chem\n",
    "from rdkit.Chem import AllChem\n",
    "import deepchem as dc\n",
    "from deepchem.utils.vina_utils import prepare_inputs\n",
    "from deepchem.utils import download_url, load_from_disk\n",
    "from deepchem.feat import RdkitGridFeaturizer"
   ]
  },
  {
   "cell_type": "markdown",
   "id": "a21e3de8-1414-49c2-bd1c-c8dfd6a0e7f3",
   "metadata": {},
   "source": [
    "# **Define function for voxel features**"
   ]
  },
  {
   "cell_type": "code",
   "execution_count": null,
   "id": "460fd7cf-4420-4e90-933f-0f22f5d2905e",
   "metadata": {},
   "outputs": [],
   "source": [
    "protein_train = 'Path to receptor pdb file'\n",
    "featurizer = RdkitGridFeaturizer(box_width=24,voxel_width = 6, feature_types = [\"splif\"], ecfp_power = 9, splif_power = 9, flatten = False, verbose = False)\n",
    "def extract_grid_feature_train(ligand_file):\n",
    "    try:\n",
    "        feature = featurizer._featurize((ligand_file, protein_train))\n",
    "        return feature\n",
    "    except:\n",
    "        pass"
   ]
  },
  {
   "cell_type": "markdown",
   "id": "3c0621af-cbbf-43a1-bfe5-701693d7f41c",
   "metadata": {},
   "source": [
    "# **Gnenerate voxel features**"
   ]
  },
  {
   "cell_type": "code",
   "execution_count": null,
   "id": "797f5c1d-d169-4416-ac8e-cba9c4bda4d2",
   "metadata": {},
   "outputs": [],
   "source": [
    "os.chdir('Path to docked complex')\n",
    "docked_sdf_active = glob.glob('*.sdf')\n",
    "docked_sdf_active.sort(key=lambda x: int(''.join(filter(str.isdigit, x))))\n",
    "\n",
    "voxel_splif = Parallel(n_jobs = 60, backend = \"multiprocessing\")(delayed(extract_grid_feature_train)(mol) for mol in tqdm(docked_sdf_active))\n",
    "\n",
    "np.save('/home/junaid/working/mettl3/voxel_data/voxel_splif.npy', voxel_splif)"
   ]
  }
 ],
 "metadata": {
  "kernelspec": {
   "display_name": "Python 3 (ipykernel)",
   "language": "python",
   "name": "python3"
  },
  "language_info": {
   "codemirror_mode": {
    "name": "ipython",
    "version": 3
   },
   "file_extension": ".py",
   "mimetype": "text/x-python",
   "name": "python",
   "nbconvert_exporter": "python",
   "pygments_lexer": "ipython3",
   "version": "3.8.20"
  }
 },
 "nbformat": 4,
 "nbformat_minor": 5
}
