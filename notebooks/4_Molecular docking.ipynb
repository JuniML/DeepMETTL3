{
 "cells": [
  {
   "cell_type": "markdown",
   "id": "ae1490d3-fdd2-4c4e-ab09-b978ac1948ab",
   "metadata": {},
   "source": [
    "# JupyterDock\n",
    "To run the following cells, refered to JupyterDock gitub repository [https://github.com/AngelRuizMoreno/Jupyter_Dock](https://github.com/AngelRuizMoreno/Jupyter_Dock).\n",
    "Create virtual environment and install required libraries and activate the environement"
   ]
  },
  {
   "cell_type": "markdown",
   "id": "d5dc75af-e33b-4f84-a102-e80b67ddf545",
   "metadata": {},
   "source": [
    "# **Load Libraries**"
   ]
  },
  {
   "cell_type": "code",
   "execution_count": null,
   "id": "1ff77920-5b42-4620-8077-13bf757816a9",
   "metadata": {},
   "outputs": [],
   "source": [
    "from pymol import cmd\n",
    "import py3Dmol\n",
    "import pandas as pd\n",
    "\n",
    "from openbabel import pybel\n",
    "\n",
    "from rdkit import Chem\n",
    "from rdkit.Chem import AllChem\n",
    "\n",
    "from joblib import Parallel, delayed\n",
    "\n",
    "from tqdm import tqdm\n",
    "\n",
    "import glob\n",
    "import sys, os, random\n",
    "sys.path.insert(1, '/home/juni/Downloads/Jupyter_Dock-main/Jupyter_Dock-main/utilities/')\n",
    "\n",
    "from utils import getbox, generate_ledock_file, dok_to_sdf\n",
    "\n",
    "import warnings\n",
    "warnings.filterwarnings(\"ignore\")\n",
    "\n",
    "%config Completer.use_jedi = False"
   ]
  },
  {
   "cell_type": "markdown",
   "id": "cb1598c0-4453-4dc9-829f-7b2d2e8de54a",
   "metadata": {},
   "source": [
    "# **Docking box definition**"
   ]
  },
  {
   "cell_type": "code",
   "execution_count": null,
   "id": "c9d6b014-f5d3-4509-a792-1114333a779f",
   "metadata": {},
   "outputs": [],
   "source": [
    "cmd.load(filename='Path to receptor pdb file',format='pdb',object='prot') #Not needed but as reference of the system\n",
    "cmd.load(filename='Path to ligand pdb file',format='pdb',object='lig')\n",
    "\n",
    "center,size=getbox(selection='lig',extending=6.0,software='vina')\n",
    "cmd.delete('all')\n",
    "print(center)\n",
    "print(size)"
   ]
  },
  {
   "cell_type": "code",
   "execution_count": null,
   "id": "82c6fed4-f567-4ae0-b079-f189f5051a36",
   "metadata": {},
   "outputs": [],
   "source": [
    "os.chdir('Path to mol2 files')"
   ]
  },
  {
   "cell_type": "code",
   "execution_count": null,
   "id": "92961acc-a197-45f2-9646-2fcfdc73797d",
   "metadata": {},
   "outputs": [],
   "source": [
    "input_files = glob.glob('*.mol2')"
   ]
  },
  {
   "cell_type": "markdown",
   "id": "1cb2e4f6-af95-4b29-8621-933f78046fe7",
   "metadata": {
    "scrolled": true
   },
   "source": [
    "# **Define function for docking to utlize all CPUs**"
   ]
  },
  {
   "cell_type": "code",
   "execution_count": null,
   "id": "ea40a2e4-97b7-4aa6-97c0-196033d0bf22",
   "metadata": {},
   "outputs": [],
   "source": [
    "def run_smina(input_file):\n",
    "    receptor_path = ['Path to receptor pdb file']\n",
    "    input_path = ['Path to ligand files' + str(input_file)]\n",
    "    output_path = ['Path for output docked files' + str(input_file)[:-5] +  '_docked.sdf']\n",
    "    smina_command = ['Path to smina code -r '+ str(receptor_path[0])+ \n",
    "                    ' -l '+str(input_file)+ ' -o '+str(output_path[0])+ ' --center_x ' +str(center['center_x'])+\n",
    "                    ' --center_y '+str(center['center_y'])+ ' --center_z '+str(center['center_z'])+ \n",
    "                    ' --size_x '+ str(size['size_x'])+ ' --size_y '+ str(size['size_y'])+ ' --size_z '+ str(size['size_z'])+ ' --exhaustiveness 8 --num_modes 1']\n",
    "    os.system(smina_command[0])"
   ]
  },
  {
   "cell_type": "code",
   "execution_count": null,
   "id": "bfdfb0c3-2399-4ff2-b031-9544fb795b3b",
   "metadata": {
    "scrolled": true
   },
   "outputs": [],
   "source": [
    "%%time\n",
    "Parallel(n_jobs = 40, backend = 'multiprocessing')(delayed(run_smina)(input_file) for input_file in tqdm(input_files))"
   ]
  }
 ],
 "metadata": {
  "kernelspec": {
   "display_name": "Python 3 (ipykernel)",
   "language": "python",
   "name": "python3"
  },
  "language_info": {
   "codemirror_mode": {
    "name": "ipython",
    "version": 3
   },
   "file_extension": ".py",
   "mimetype": "text/x-python",
   "name": "python",
   "nbconvert_exporter": "python",
   "pygments_lexer": "ipython3",
   "version": "3.8.20"
  }
 },
 "nbformat": 4,
 "nbformat_minor": 5
}
