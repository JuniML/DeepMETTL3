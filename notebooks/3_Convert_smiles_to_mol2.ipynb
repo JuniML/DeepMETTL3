{
 "cells": [
  {
   "cell_type": "markdown",
   "id": "85175052-7ca9-4931-ad15-3c64ac4b7149",
   "metadata": {},
   "source": [
    "# **Load Libraries**"
   ]
  },
  {
   "cell_type": "code",
   "execution_count": 1,
   "id": "80a4df70-870f-47fe-b799-f041c9d7733f",
   "metadata": {},
   "outputs": [],
   "source": [
    "from pymol import cmd\n",
    "import py3Dmol\n",
    "import pandas as pd\n",
    "\n",
    "from openbabel import pybel\n",
    "\n",
    "from rdkit import Chem\n",
    "from rdkit.Chem import AllChem\n",
    "\n",
    "from joblib import Parallel, delayed\n",
    "\n",
    "from tqdm import tqdm\n",
    "\n",
    "import glob\n",
    "import sys, os, random\n",
    "sys.path.insert(1, '/home/juni/Downloads/Jupyter_Dock-main/Jupyter_Dock-main/utilities/')\n",
    "\n",
    "from utils import getbox, generate_ledock_file, dok_to_sdf\n",
    "\n",
    "import warnings\n",
    "warnings.filterwarnings(\"ignore\")\n",
    "\n",
    "%config Completer.use_jedi = False"
   ]
  },
  {
   "cell_type": "markdown",
   "id": "66e84fbf-ea63-47bb-8a6d-335694499549",
   "metadata": {},
   "source": [
    "# **Load actives file**"
   ]
  },
  {
   "cell_type": "code",
   "execution_count": 51,
   "id": "7959aa8a-4d14-40d9-a61c-f7f2109203e6",
   "metadata": {},
   "outputs": [],
   "source": [
    "train_smiles_actives = pd.read_csv('/home/juni/working/mettl3/train_651_new.smi', header=None)\n",
    "test_smiles_actives = pd.read_csv('/home/juni/working/mettl3/test_85_new.smi', header=None)\n",
    "\n",
    "train_smiles_decoys = pd.read_csv('/home/juni/working/mettl3/train_decoys_smiles.smi')\n",
    "test_smiles_decoys = pd.read_csv('/home/juni/working/mettl3/test_decoys_smiles.smi')"
   ]
  },
  {
   "cell_type": "code",
   "execution_count": 52,
   "id": "1694ed17-5788-4630-b834-1a28375cc6fd",
   "metadata": {
    "scrolled": true
   },
   "outputs": [],
   "source": [
    "train_smiles_actives = train_smiles_actives[0].tolist()\n",
    "test_smiles_actives = test_smiles_actives[0].tolist()\n",
    "train_smiles_decoys = train_smiles_decoys[train_smiles_decoys.columns[0]].tolist()\n",
    "test_smiles_decoys = test_smiles_decoys[test_smiles_decoys.columns[0]].tolist()"
   ]
  },
  {
   "cell_type": "markdown",
   "id": "4c152e94-d000-48fd-8958-c12466a81e04",
   "metadata": {},
   "source": [
    "# **save actives smiles as mol2**"
   ]
  },
  {
   "cell_type": "code",
   "execution_count": 54,
   "id": "ce74092e-d475-4629-a7bb-4c409524f485",
   "metadata": {},
   "outputs": [],
   "source": [
    "#train actives\n",
    "for index,smi in enumerate(test_smiles_decoys):\n",
    "    mol=pybel.readstring(string=smi,format='smiles')\n",
    "    mol.title='dec_'+str(index)\n",
    "    mol.make3D('mmff94s')\n",
    "    mol.localopt(forcefield='mmff94s', steps=500)\n",
    "    out=pybel.Outputfile(filename='/home/juni/working/mettl3/test_decoys_mol2/'+'mol_'+str(index)+'.mol2',format='mol2',overwrite=True)\n",
    "    out.write(mol)\n",
    "    out.close()"
   ]
  },
  {
   "cell_type": "code",
   "execution_count": null,
   "id": "760f4ede-f87c-4605-a365-a092840d0918",
   "metadata": {},
   "outputs": [],
   "source": []
  }
 ],
 "metadata": {
  "kernelspec": {
   "display_name": "Python 3 (ipykernel)",
   "language": "python",
   "name": "python3"
  },
  "language_info": {
   "codemirror_mode": {
    "name": "ipython",
    "version": 3
   },
   "file_extension": ".py",
   "mimetype": "text/x-python",
   "name": "python",
   "nbconvert_exporter": "python",
   "pygments_lexer": "ipython3",
   "version": "3.8.17"
  }
 },
 "nbformat": 4,
 "nbformat_minor": 5
}
